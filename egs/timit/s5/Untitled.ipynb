{
 "cells": [
  {
   "cell_type": "code",
   "execution_count": 1,
   "metadata": {},
   "outputs": [],
   "source": [
    "import numpy as np\n",
    "import pickle"
   ]
  },
  {
   "cell_type": "code",
   "execution_count": 3,
   "metadata": {},
   "outputs": [],
   "source": [
    "alis = open(\"./exp/alignments\", \"r\").readlines()\n",
    "# gt = pickle.load(open(\"frame_level_dict.pkl\", \"rb\"))"
   ]
  },
  {
   "cell_type": "code",
   "execution_count": 4,
   "metadata": {},
   "outputs": [
    {
     "data": {
      "text/plain": [
       "4288"
      ]
     },
     "execution_count": 4,
     "metadata": {},
     "output_type": "execute_result"
    }
   ],
   "source": [
    "len(alis)"
   ]
  },
  {
   "cell_type": "code",
   "execution_count": 5,
   "metadata": {},
   "outputs": [],
   "source": [
    "alignments = {}\n",
    "for utt in alis:\n",
    "    out = utt.strip().split(\" \")\n",
    "    uttid = out[0]\n",
    "    phonemes = out[1:]\n",
    "\n",
    "    indices = []\n",
    "    start_idx = 0\n",
    "    \n",
    "    for idx, ele in enumerate(phonemes[:-1]):\n",
    "        if(phonemes[idx+1] != ele or idx == len(phonemes)-2):\n",
    "            end_idx = idx+1\n",
    "            indices.append([start_idx, end_idx])\n",
    "            start_idx = end_idx\n",
    "    alignments[uttid] = indices"
   ]
  },
  {
   "cell_type": "code",
   "execution_count": 6,
   "metadata": {},
   "outputs": [],
   "source": [
    "pickle.dump(alignments, open(\"frame_level_fa2.pkl\", \"wb\"))"
   ]
  },
  {
   "cell_type": "code",
   "execution_count": null,
   "metadata": {},
   "outputs": [],
   "source": []
  }
 ],
 "metadata": {
  "kernelspec": {
   "display_name": "Python 3",
   "language": "python",
   "name": "python3"
  },
  "language_info": {
   "codemirror_mode": {
    "name": "ipython",
    "version": 3
   },
   "file_extension": ".py",
   "mimetype": "text/x-python",
   "name": "python",
   "nbconvert_exporter": "python",
   "pygments_lexer": "ipython3",
   "version": "3.6.4"
  }
 },
 "nbformat": 4,
 "nbformat_minor": 2
}
