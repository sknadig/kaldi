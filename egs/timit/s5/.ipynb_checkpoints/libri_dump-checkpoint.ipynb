{
 "cells": [
  {
   "cell_type": "code",
   "execution_count": 13,
   "metadata": {},
   "outputs": [],
   "source": [
    "import numpy as np\n",
    "import matplotlib.pyplot as plt\n",
    "import pickle"
   ]
  },
  {
   "cell_type": "code",
   "execution_count": null,
   "metadata": {},
   "outputs": [],
   "source": [
    "d = pickle.load(open(\"/home/neo/Desktop/data/frame_level_fa2.pkl\", \"rb\"))"
   ]
  },
  {
   "cell_type": "code",
   "execution_count": null,
   "metadata": {},
   "outputs": [],
   "source": [
    "uttid = \"1272-128104-0008\""
   ]
  },
  {
   "cell_type": "code",
   "execution_count": null,
   "metadata": {},
   "outputs": [],
   "source": [
    "cosin_square_no_decay_const = np.load(\"/home/neo/MS/ICASSP_2020/FA/results/const_al/{0}.ep.11.npy\".format(uttid))\n",
    "cosin_square_no_decay_const_base = np.load(\"/home/neo/MS/ICASSP_2020/FA/results/const_base/{0}.ep.11.npy\".format(uttid))\n",
    "cosin_square_no_decay_auto = np.load(\"/home/neo/MS/ICASSP_2020/FA/results/auto_al/{0}.ep.11.npy\".format(uttid))\n",
    "cosin_square_no_decay_auto_base = np.load(\"/home/neo/MS/ICASSP_2020/FA/results/auto_base/{0}.ep.11.npy\".format(uttid))"
   ]
  },
  {
   "cell_type": "code",
   "execution_count": null,
   "metadata": {},
   "outputs": [],
   "source": [
    "oracle_att = d[uttid]"
   ]
  },
  {
   "cell_type": "code",
   "execution_count": null,
   "metadata": {},
   "outputs": [],
   "source": [
    "len(oracle_att), cosin_square_no_decay_const.shape"
   ]
  },
  {
   "cell_type": "code",
   "execution_count": null,
   "metadata": {},
   "outputs": [],
   "source": [
    "new_atts = np.zeros((cosin_square_no_decay_const.shape))\n",
    "for i,row in enumerate(oracle_att):\n",
    "    new_atts[i][row[0]:row[1]] = 1\n",
    "# new_atts[-2][266:]=1\n",
    "\n",
    "plt.imshow(new_atts, aspect=\"auto\", cmap='gray_r')\n",
    "plt.xlabel(\"Frame Index\", fontsize=20)\n",
    "plt.ylabel(\"Phoneme Index\", fontsize=20)\n",
    "plt.tight_layout()\n",
    "plt.savefig(\"/home/neo/MS/ICASSP_2020/FA/{0}_GMM_HMM.png\".format(uttid), dpi=500)\n",
    "\n",
    "np.savetxt(\"/home/neo/MS/ICASSP_2020/FA/{0}_GMM_HMM.csv\".format(uttid), new_atts, delimiter=\",\")"
   ]
  },
  {
   "cell_type": "code",
   "execution_count": null,
   "metadata": {},
   "outputs": [],
   "source": [
    "plt.imshow(cosin_square_no_decay_const, aspect=\"auto\", cmap='gray_r')\n",
    "plt.xlabel(\"Encoder Index\", fontsize=20)\n",
    "plt.ylabel(\"Decoder Index\", fontsize=20)\n",
    "plt.tight_layout()\n",
    "plt.savefig(\"/home/neo/MS/ICASSP_2020/FA/{0}_cosin_square_no_decay_const.png\".format(uttid), dpi=500)\n",
    "np.savetxt(\"/home/neo/MS/ICASSP_2020/FA/{0}_cosin_square_no_decay_const.csv\".format(uttid), cosin_square_no_decay_const, delimiter=\",\")"
   ]
  },
  {
   "cell_type": "code",
   "execution_count": null,
   "metadata": {},
   "outputs": [],
   "source": [
    "plt.imshow(cosin_square_no_decay_const_base, aspect=\"auto\", cmap='gray_r')\n",
    "plt.xlabel(\"Encoder Index\", fontsize=20)\n",
    "plt.ylabel(\"Decoder Index\", fontsize=20)\n",
    "plt.tight_layout()\n",
    "plt.savefig(\"/home/neo/MS/ICASSP_2020/FA/{0}_cosin_square_no_decay_const_base.png\".format(uttid), dpi=500)\n",
    "np.savetxt(\"/home/neo/MS/ICASSP_2020/FA/{0}_cosin_square_no_decay_const_base.csv\".format(uttid), cosin_square_no_decay_const_base, delimiter=\",\")"
   ]
  },
  {
   "cell_type": "code",
   "execution_count": null,
   "metadata": {},
   "outputs": [],
   "source": [
    "plt.imshow(cosin_square_no_decay_auto, aspect=\"auto\", cmap='gray_r')\n",
    "plt.xlabel(\"Encoder Index\", fontsize=20)\n",
    "plt.ylabel(\"Decoder Index\", fontsize=20)\n",
    "plt.tight_layout()\n",
    "plt.savefig(\"/home/neo/MS/ICASSP_2020/FA/{0}_cosin_square_no_decay_auto.png\".format(uttid), dpi=500)\n",
    "np.savetxt(\"/home/neo/MS/ICASSP_2020/FA/{0}_cosin_square_no_decay_auto.csv\".format(uttid), cosin_square_no_decay_auto, delimiter=\",\")"
   ]
  },
  {
   "cell_type": "code",
   "execution_count": null,
   "metadata": {},
   "outputs": [],
   "source": [
    "plt.imshow(cosin_square_no_decay_auto_base, aspect=\"auto\", cmap='gray_r')\n",
    "plt.xlabel(\"Encoder Index\", fontsize=20)\n",
    "plt.ylabel(\"Decoder Index\", fontsize=20)\n",
    "plt.tight_layout()\n",
    "plt.savefig(\"/home/neo/MS/ICASSP_2020/FA/{0}_cosin_square_no_decay_auto_base.png\".format(uttid), dpi=500)\n",
    "np.savetxt(\"/home/neo/MS/ICASSP_2020/FA/{0}_cosin_square_no_decay_auto_base.csv\".format(uttid), cosin_square_no_decay_auto_base, delimiter=\",\")"
   ]
  },
  {
   "cell_type": "code",
   "execution_count": null,
   "metadata": {},
   "outputs": [],
   "source": []
  }
 ],
 "metadata": {
  "kernelspec": {
   "display_name": "Python 3",
   "language": "python",
   "name": "python3"
  },
  "language_info": {
   "codemirror_mode": {
    "name": "ipython",
    "version": 3
   },
   "file_extension": ".py",
   "mimetype": "text/x-python",
   "name": "python",
   "nbconvert_exporter": "python",
   "pygments_lexer": "ipython3",
   "version": "3.6.4"
  }
 },
 "nbformat": 4,
 "nbformat_minor": 2
}
